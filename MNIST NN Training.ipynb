{
 "cells": [
  {
   "cell_type": "markdown",
   "id": "a36e9b6f",
   "metadata": {},
   "source": [
    "From https://towardsdatascience.com/handwritten-digit-mnist-pytorch-977b5338e627"
   ]
  },
  {
   "cell_type": "code",
   "execution_count": 1,
   "id": "0691fc6e",
   "metadata": {},
   "outputs": [],
   "source": [
    "import numpy as np\n",
    "import torch\n",
    "import torchvision\n",
    "# import matplotlib.pyplot as plt\n",
    "from time import time\n",
    "from torchvision import datasets, transforms\n",
    "from torch import nn, optim"
   ]
  },
  {
   "cell_type": "code",
   "execution_count": 2,
   "id": "a4d4acca",
   "metadata": {},
   "outputs": [],
   "source": [
    "transform = transforms.Compose([transforms.ToTensor(),\n",
    "                              transforms.Normalize((0.5,), (0.5,)),\n",
    "                              ])"
   ]
  },
  {
   "cell_type": "code",
   "execution_count": 3,
   "id": "cd00a050",
   "metadata": {},
   "outputs": [],
   "source": [
    "trainset = datasets.MNIST('data/', download=True, train=True, transform=transform)\n",
    "valset = datasets.MNIST('data/', download=True, train=False, transform=transform)\n",
    "trainloader = torch.utils.data.DataLoader(trainset, batch_size=64, shuffle=True)\n",
    "valloader = torch.utils.data.DataLoader(valset, batch_size=64, shuffle=True)"
   ]
  },
  {
   "cell_type": "code",
   "execution_count": 4,
   "id": "e15a3c9c",
   "metadata": {},
   "outputs": [
    {
     "name": "stdout",
     "output_type": "stream",
     "text": [
      "torch.Size([64, 1, 28, 28])\n",
      "torch.Size([64])\n"
     ]
    }
   ],
   "source": [
    "dataiter = iter(trainloader)\n",
    "images, labels = dataiter.next()\n",
    "\n",
    "print(images.shape)\n",
    "print(labels.shape)"
   ]
  },
  {
   "cell_type": "code",
   "execution_count": 5,
   "id": "8afc09ae",
   "metadata": {},
   "outputs": [
    {
     "name": "stdout",
     "output_type": "stream",
     "text": [
      "Sequential(\n",
      "  (0): Linear(in_features=784, out_features=128, bias=True)\n",
      "  (1): ReLU()\n",
      "  (2): Linear(in_features=128, out_features=64, bias=True)\n",
      "  (3): ReLU()\n",
      "  (4): Linear(in_features=64, out_features=10, bias=True)\n",
      "  (5): LogSoftmax(dim=1)\n",
      ")\n"
     ]
    }
   ],
   "source": [
    "input_size = 784\n",
    "hidden_sizes = [128, 64]\n",
    "output_size = 10\n",
    "\n",
    "model = nn.Sequential(nn.Linear(input_size, hidden_sizes[0]),\n",
    "                      nn.ReLU(),\n",
    "                      nn.Linear(hidden_sizes[0], hidden_sizes[1]),\n",
    "                      nn.ReLU(),\n",
    "                      nn.Linear(hidden_sizes[1], output_size),\n",
    "                      nn.LogSoftmax(dim=1))\n",
    "print(model)"
   ]
  },
  {
   "cell_type": "code",
   "execution_count": 7,
   "id": "35af5784",
   "metadata": {},
   "outputs": [
    {
     "name": "stdout",
     "output_type": "stream",
     "text": [
      "torch.Size([64, 1, 28, 28])\n",
      "torch.Size([64, 784])\n"
     ]
    }
   ],
   "source": [
    "criterion = nn.NLLLoss()\n",
    "images, labels = next(iter(trainloader))\n",
    "print(images.shape)\n",
    "images = images.view(images.shape[0], -1)\n",
    "print(images.shape)\n",
    "\n",
    "logps = model(images) #log probabilities\n",
    "loss = criterion(logps, labels) #calculate the NLL loss"
   ]
  },
  {
   "cell_type": "code",
   "execution_count": 8,
   "id": "4d27d9ad",
   "metadata": {},
   "outputs": [
    {
     "name": "stdout",
     "output_type": "stream",
     "text": [
      "Epoch 0 - Training loss: 0.6453375548426149\n",
      "Epoch 1 - Training loss: 0.2839471120427031\n",
      "Epoch 2 - Training loss: 0.2227434718858268\n",
      "Epoch 3 - Training loss: 0.1791206600148477\n",
      "Epoch 4 - Training loss: 0.1501937221699972\n",
      "Epoch 5 - Training loss: 0.12870397312697698\n",
      "Epoch 6 - Training loss: 0.11300322995769349\n",
      "Epoch 7 - Training loss: 0.09975925623737117\n",
      "Epoch 8 - Training loss: 0.08901361081260703\n",
      "Epoch 9 - Training loss: 0.07943689126296957\n",
      "Epoch 10 - Training loss: 0.07285331765702094\n",
      "Epoch 11 - Training loss: 0.06656282975612435\n",
      "Epoch 12 - Training loss: 0.06108577304712332\n",
      "Epoch 13 - Training loss: 0.056353944680541314\n",
      "Epoch 14 - Training loss: 0.051251063157351555\n",
      "\n",
      "Training Time (in minutes) = 6.46910723845164\n"
     ]
    }
   ],
   "source": [
    "optimizer = optim.SGD(model.parameters(), lr=0.003, momentum=0.9)\n",
    "time0 = time()\n",
    "epochs = 15\n",
    "for e in range(epochs):\n",
    "    running_loss = 0\n",
    "    for images, labels in trainloader:\n",
    "        # Flatten MNIST images into a 784 long vector\n",
    "        images = images.view(images.shape[0], -1)\n",
    "    \n",
    "        # Training pass\n",
    "        optimizer.zero_grad()\n",
    "        \n",
    "        output = model(images)\n",
    "        loss = criterion(output, labels)\n",
    "        \n",
    "        #This is where the model learns by backpropagating\n",
    "        loss.backward()\n",
    "        \n",
    "        #And optimizes its weights here\n",
    "        optimizer.step()\n",
    "        \n",
    "        running_loss += loss.item()\n",
    "    else:\n",
    "        print(\"Epoch {} - Training loss: {}\".format(e, running_loss/len(trainloader)))\n",
    "print(\"\\nTraining Time (in minutes) =\",(time()-time0)/60)"
   ]
  },
  {
   "cell_type": "code",
   "execution_count": 15,
   "id": "7e3bc189",
   "metadata": {},
   "outputs": [
    {
     "name": "stdout",
     "output_type": "stream",
     "text": [
      "tensor([[-1.5040e+01, -1.8708e+01, -1.3163e+01, -1.3056e+01, -1.7572e+01,\n",
      "         -1.1867e+01, -1.0732e+01, -2.2547e+01, -3.3259e-05, -1.6541e+01]])\n",
      "tensor([[2.9382e-07, 7.5022e-09, 1.9212e-06, 2.1375e-06, 2.3369e-08, 7.0159e-06,\n",
      "         2.1845e-05, 1.6150e-10, 9.9997e-01, 6.5500e-08]])\n",
      "[2.9381582e-07, 7.502205e-09, 1.9211984e-06, 2.1375322e-06, 2.336931e-08, 7.0159404e-06, 2.1845306e-05, 1.6149901e-10, 0.99996674, 6.5499734e-08]\n",
      "Predicted Digit = 8\n"
     ]
    }
   ],
   "source": [
    "images, labels = next(iter(valloader))\n",
    "\n",
    "img = images[0].view(1, 784)\n",
    "with torch.no_grad():\n",
    "    logps = model(img)\n",
    "    print(logps)\n",
    "\n",
    "ps = torch.exp(logps)\n",
    "print(ps)\n",
    "probab = list(ps.numpy()[0])\n",
    "print(probab)\n",
    "print(\"Predicted Digit =\", probab.index(max(probab)))\n",
    "# view_classify(img.view(1, 28, 28), ps)"
   ]
  },
  {
   "cell_type": "code",
   "execution_count": 11,
   "id": "2e8dc701",
   "metadata": {},
   "outputs": [
    {
     "name": "stdout",
     "output_type": "stream",
     "text": [
      "Number Of Images Tested = 10000\n",
      "\n",
      "Model Accuracy = 0.9749\n"
     ]
    }
   ],
   "source": [
    "correct_count, all_count = 0, 0\n",
    "for images,labels in valloader:\n",
    "  for i in range(len(labels)):\n",
    "    img = images[i].view(1, 784)\n",
    "    with torch.no_grad():\n",
    "        logps = model(img)\n",
    "\n",
    "    \n",
    "    ps = torch.exp(logps)\n",
    "    probab = list(ps.numpy()[0])\n",
    "    pred_label = probab.index(max(probab))\n",
    "    true_label = labels.numpy()[i]\n",
    "    if(true_label == pred_label):\n",
    "      correct_count += 1\n",
    "    all_count += 1\n",
    "\n",
    "print(\"Number Of Images Tested =\", all_count)\n",
    "print(\"\\nModel Accuracy =\", (correct_count/all_count))"
   ]
  },
  {
   "cell_type": "code",
   "execution_count": 12,
   "id": "8b717099",
   "metadata": {},
   "outputs": [],
   "source": [
    "torch.save(model, 'data/models/mnist.pt') "
   ]
  },
  {
   "cell_type": "code",
   "execution_count": 8,
   "id": "459ff2d9",
   "metadata": {},
   "outputs": [],
   "source": [
    "model = torch.load('data/models/mnist.pt')"
   ]
  }
 ],
 "metadata": {
  "interpreter": {
   "hash": "91cd27439cf78d496a7c1be02083a6442d8209a2934972bc4365efe92b591923"
  },
  "kernelspec": {
   "display_name": "Python 3.7.6 64-bit ('eva': conda)",
   "name": "python3"
  },
  "language_info": {
   "codemirror_mode": {
    "name": "ipython",
    "version": 3
   },
   "file_extension": ".py",
   "mimetype": "text/x-python",
   "name": "python",
   "nbconvert_exporter": "python",
   "pygments_lexer": "ipython3",
   "version": "3.7.6"
  }
 },
 "nbformat": 4,
 "nbformat_minor": 5
}
