{
 "cells": [
  {
   "cell_type": "code",
   "execution_count": 1,
   "id": "186638d5",
   "metadata": {},
   "outputs": [],
   "source": [
    "import sys\n",
    "sys.path.insert(0,'..')\n",
    "from src.server.db_api import connect"
   ]
  },
  {
   "cell_type": "code",
   "execution_count": 2,
   "id": "7ef8e476",
   "metadata": {},
   "outputs": [],
   "source": [
    "import nest_asyncio\n",
    "nest_asyncio.apply()\n",
    "connection = connect(host = '0.0.0.0', port = 5432) # hostname, port of the server where EVADB is running"
   ]
  },
  {
   "cell_type": "code",
   "execution_count": 3,
   "id": "f4c38bf4",
   "metadata": {},
   "outputs": [],
   "source": [
    "cursor = connection.cursor()"
   ]
  },
  {
   "cell_type": "markdown",
   "id": "12584829",
   "metadata": {},
   "source": [
    "## Load MNIST Video"
   ]
  },
  {
   "cell_type": "code",
   "execution_count": 4,
   "id": "f5062c82",
   "metadata": {},
   "outputs": [
    {
     "data": {
      "application/vnd.jupyter.widget-view+json": {
       "model_id": "99ddbf359c934d1cb3dfd0d5ec184c59",
       "version_major": 2,
       "version_minor": 0
      },
      "text/plain": [
       "Video(value=b'\\x00\\x00\\x00 ftypisom\\x00\\x00\\x02\\x00isomiso2avc1mp41\\x00\\x00\\x00\\x08free\\x00\\x88]Imdat\\x00\\x00\\…"
      ]
     },
     "metadata": {},
     "output_type": "display_data"
    }
   ],
   "source": [
    "from ipywidgets import Video\n",
    "Video.from_file(\"data/MNIST/train_long.mp4\", embed=True)"
   ]
  },
  {
   "cell_type": "code",
   "execution_count": 4,
   "id": "5c688fa0",
   "metadata": {},
   "outputs": [
    {
     "name": "stdout",
     "output_type": "stream",
     "text": [
      "Response Object:\n",
      "@status: 0\n",
      "@batch: Batch Object:\n",
      "@dataframe: Empty DataFrame\n",
      "Columns: []\n",
      "Index: []\n",
      "@batch_size: 0\n",
      "@identifier_column: id\n",
      "@metrics: None\n"
     ]
    }
   ],
   "source": [
    "cursor.execute('UPLOAD INFILE \"data/MNIST/train_long.mp4\" PATH \"mnisttrain.mp4\";')\n",
    "response = cursor.fetch_all()\n",
    "print(response)"
   ]
  },
  {
   "cell_type": "code",
   "execution_count": 5,
   "id": "417be77d",
   "metadata": {},
   "outputs": [
    {
     "name": "stdout",
     "output_type": "stream",
     "text": [
      "Response Object:\n",
      "@status: 0\n",
      "@batch: Batch Object:\n",
      "@dataframe:             Video  Num Loaded Frames\n",
      "0  mnisttrain.mp4             360000\n",
      "@batch_size: 1\n",
      "@identifier_column: id\n",
      "@metrics: None\n"
     ]
    }
   ],
   "source": [
    "cursor.execute('LOAD DATA INFILE \"mnisttrain.mp4\" INTO MNISTTrain;')\n",
    "response = cursor.fetch_all()\n",
    "print(response)"
   ]
  },
  {
   "cell_type": "markdown",
   "id": "0767f8da",
   "metadata": {},
   "source": [
    "## Register UDF"
   ]
  },
  {
   "cell_type": "code",
   "execution_count": 11,
   "id": "3407d475",
   "metadata": {},
   "outputs": [
    {
     "name": "stdout",
     "output_type": "stream",
     "text": [
      "Response Object:\n",
      "@status: 0\n",
      "@batch: Batch Object:\n",
      "@dataframe: Empty DataFrame\n",
      "Columns: []\n",
      "Index: []\n",
      "@batch_size: 0\n",
      "@identifier_column: id\n",
      "@metrics: None\n"
     ]
    }
   ],
   "source": [
    "cursor.execute(\"\"\"CREATE UDF IF NOT EXISTS MNISTDigitDetector\n",
    "      INPUT  (frame NDARRAY UINT8(3, ANYDIM, ANYDIM))\n",
    "      OUTPUT (labels NDARRAY STR(ANYDIM), scores NDARRAY FLOAT32(ANYDIM))\n",
    "      TYPE  Classification\n",
    "      IMPL  'src/udfs/mnist_digit_detector.py';\n",
    "      \"\"\")\n",
    "response = cursor.fetch_all()\n",
    "print(response)"
   ]
  },
  {
   "cell_type": "code",
   "execution_count": null,
   "id": "8709dace",
   "metadata": {},
   "outputs": [],
   "source": [
    "cursor.execute(\"\"\"SELECT id, Unnest(MNISTDigitDetector(data)) FROM MNISTTrain\"\"\")\n",
    "response = cursor.fetch_all()"
   ]
  },
  {
   "cell_type": "code",
   "execution_count": null,
   "id": "3ea414aa",
   "metadata": {},
   "outputs": [],
   "source": [
    "print(response)"
   ]
  },
  {
   "cell_type": "code",
   "execution_count": 6,
   "id": "6d476340",
   "metadata": {},
   "outputs": [
    {
     "name": "stdout",
     "output_type": "stream",
     "text": [
      "Response Object:\n",
      "@status: 0\n",
      "@batch: Batch Object:\n",
      "@dataframe:             id  labels    scores\n",
      "0            0       4  0.410498\n",
      "1            1       4  0.410498\n",
      "2            2       4  0.410498\n",
      "3            3       4  0.410498\n",
      "4            4       4  0.410498\n",
      "...        ...     ...       ...\n",
      "359995  359995       4  0.935499\n",
      "359996  359996       4  0.935499\n",
      "359997  359997       4  0.935499\n",
      "359998  359998       4  0.935499\n",
      "359999  359999       4  0.935499\n",
      "\n",
      "[360000 rows x 3 columns]\n",
      "@batch_size: 360000\n",
      "@identifier_column: id\n",
      "@metrics: None\n"
     ]
    }
   ],
   "source": [
    "import sys\n",
    "sys.path.insert(0,'..')\n",
    "from src.server.db_api import connect\n",
    "import nest_asyncio\n",
    "nest_asyncio.apply()\n",
    "connection = connect(host = '0.0.0.0', port = 5432) # hostname, port of the server where EVADB is running\n",
    "cursor = connection.cursor()\n",
    "cursor.execute(\"\"\"SELECT id, Unnest(MNISTDigitDetector(data)) FROM MNISTTrain\"\"\")\n",
    "response = cursor.fetch_all()\n",
    "print(response)"
   ]
  },
  {
   "cell_type": "code",
   "execution_count": 25,
   "id": "ac22c945",
   "metadata": {},
   "outputs": [
    {
     "name": "stdout",
     "output_type": "stream",
     "text": [
      "Response Object:\n",
      "@status: 0\n",
      "@batch: Batch Object:\n",
      "@dataframe:             id  labels    scores\n",
      "0         7887       4  0.149656\n",
      "1         7886       4  0.149656\n",
      "2        40558       7  0.153832\n",
      "3        40559       7  0.153832\n",
      "4        75727       0  0.166987\n",
      "...        ...     ...       ...\n",
      "119995   70585       3  0.999714\n",
      "119996  115767       3  0.999737\n",
      "119997  115766       3  0.999737\n",
      "119998   96909       3  0.999823\n",
      "119999   96908       3  0.999823\n",
      "\n",
      "[120000 rows x 3 columns]\n",
      "@batch_size: 120000\n",
      "@identifier_column: id\n",
      "@metrics: None\n"
     ]
    }
   ],
   "source": [
    "import sys\n",
    "sys.path.insert(0,'..')\n",
    "from src.server.db_api import connect\n",
    "import nest_asyncio\n",
    "nest_asyncio.apply()\n",
    "connection = connect(host = '0.0.0.0', port = 5432) # hostname, port of the server where EVADB is running\n",
    "cursor = connection.cursor()\n",
    "cursor.execute(\"\"\"SELECT id, Unnest(MNISTDigitDetector(data)) FROM MNISTTrain ORDER BY scores\"\"\")\n",
    "response = cursor.fetch_all()\n",
    "print(response)"
   ]
  },
  {
   "cell_type": "code",
   "execution_count": 26,
   "id": "31631602",
   "metadata": {},
   "outputs": [
    {
     "name": "stdout",
     "output_type": "stream",
     "text": [
      "Response Object:\n",
      "@status: 0\n",
      "@batch: Batch Object:\n",
      "@dataframe:         id  labels    scores\n",
      "0        0       4  0.393389\n",
      "1        1       4  0.393718\n",
      "2        2       4  0.288286\n",
      "3        3       4  0.288286\n",
      "4        4       7  0.879276\n",
      "...    ...     ...       ...\n",
      "1995  1995       5  0.905047\n",
      "1996  1996       0  0.643098\n",
      "1997  1997       0  0.643098\n",
      "1998  1998       5  0.868746\n",
      "1999  1999       5  0.870313\n",
      "\n",
      "[2000 rows x 3 columns]\n",
      "@batch_size: 2000\n",
      "@identifier_column: id\n",
      "@metrics: None\n"
     ]
    }
   ],
   "source": [
    "import sys\n",
    "sys.path.insert(0,'..')\n",
    "from src.server.db_api import connect\n",
    "import nest_asyncio\n",
    "nest_asyncio.apply()\n",
    "connection = connect(host = '0.0.0.0', port = 5432) # hostname, port of the server where EVADB is running\n",
    "cursor = connection.cursor()\n",
    "cursor.execute(\"\"\"SELECT id, Unnest(MNISTDigitDetector(data)) FROM MNISTTrain LIMIT 2000\"\"\")\n",
    "response = cursor.fetch_all()\n",
    "print(response)"
   ]
  },
  {
   "cell_type": "code",
   "execution_count": 27,
   "id": "9cc73ac7",
   "metadata": {},
   "outputs": [
    {
     "name": "stdout",
     "output_type": "stream",
     "text": [
      "Response Object:\n",
      "@status: 0\n",
      "@batch: Batch Object:\n",
      "@dataframe:         id  labels    scores\n",
      "0        0       4  0.393389\n",
      "1     2000       9  0.653160\n",
      "2     4000       2  0.947153\n",
      "3     6000       4  0.285834\n",
      "4     8000       5  0.917081\n",
      "5    10000       7  0.629362\n",
      "6    12000       1  0.731757\n",
      "7    14000       7  0.784886\n",
      "8    16000       1  0.787377\n",
      "9    18000       3  0.992242\n",
      "10   20000       0  0.633652\n",
      "11   22000       2  0.577312\n",
      "12   24000       3  0.988534\n",
      "13   26000       3  0.997335\n",
      "14   28000       1  0.548776\n",
      "15   30000       4  0.680613\n",
      "16   32000       2  0.867641\n",
      "17   34000       3  0.333537\n",
      "18   36000       1  0.865975\n",
      "19   38000       1  0.396021\n",
      "20   40000       1  0.388706\n",
      "21   42000       8  0.307837\n",
      "22   44000       5  0.997317\n",
      "23   46000       7  0.848871\n",
      "24   48000       7  0.912377\n",
      "25   50000       3  0.996871\n",
      "26   52000       2  0.844690\n",
      "27   54000       0  0.929211\n",
      "28   56000       0  0.419154\n",
      "29   58000       2  0.689670\n",
      "30   60000       5  0.925301\n",
      "31   62000       7  0.530045\n",
      "32   64000       3  0.433458\n",
      "33   66000       1  0.904293\n",
      "34   68000       1  0.825942\n",
      "35   70000       9  0.841279\n",
      "36   72000       5  0.929003\n",
      "37   74000       7  0.583794\n",
      "38   76000       8  0.564628\n",
      "39   78000       0  0.720051\n",
      "40   80000       3  0.980583\n",
      "41   82000       0  0.463403\n",
      "42   84000       4  0.786635\n",
      "43   86000       6  0.976254\n",
      "44   88000       6  0.632283\n",
      "45   90000       5  0.868727\n",
      "46   92000       0  0.749167\n",
      "47   94000       7  0.506392\n",
      "48   96000       3  0.390956\n",
      "49   98000       1  0.550272\n",
      "50  100000       4  0.441369\n",
      "51  102000       3  0.915103\n",
      "52  104000       1  0.857460\n",
      "53  106000       9  0.651454\n",
      "54  108000       0  0.803974\n",
      "55  110000       1  0.264123\n",
      "56  112000       4  0.574207\n",
      "57  114000       3  0.992336\n",
      "58  116000       2  0.476639\n",
      "59  118000       3  0.938973\n",
      "@batch_size: 60\n",
      "@identifier_column: id\n",
      "@metrics: None\n"
     ]
    }
   ],
   "source": [
    "import sys\n",
    "sys.path.insert(0,'..')\n",
    "from src.server.db_api import connect\n",
    "import nest_asyncio\n",
    "nest_asyncio.apply()\n",
    "connection = connect(host = '0.0.0.0', port = 5432) # hostname, port of the server where EVADB is running\n",
    "cursor = connection.cursor()\n",
    "cursor.execute(\"\"\"SELECT id, Unnest(MNISTDigitDetector(data)) FROM MNISTTrain SAMPLE 2000\"\"\")\n",
    "response = cursor.fetch_all()\n",
    "print(response)"
   ]
  }
 ],
 "metadata": {
  "kernelspec": {
   "display_name": "Python 3 (ipykernel)",
   "language": "python",
   "name": "python3"
  },
  "language_info": {
   "codemirror_mode": {
    "name": "ipython",
    "version": 3
   },
   "file_extension": ".py",
   "mimetype": "text/x-python",
   "name": "python",
   "nbconvert_exporter": "python",
   "pygments_lexer": "ipython3",
   "version": "3.7.6"
  }
 },
 "nbformat": 4,
 "nbformat_minor": 5
}
